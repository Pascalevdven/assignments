{
 "cells": [
  {
   "cell_type": "markdown",
   "metadata": {},
   "source": [
    "Before you turn this problem in, make sure everything runs as expected. First, **restart the kernel** (in the menubar, select Kernel$\\rightarrow$Restart) and then **run all cells** (in the menubar, select Cell$\\rightarrow$Run All).\n",
    "\n",
    "Make sure you fill in any place that says `YOUR CODE HERE` or \"YOUR ANSWER HERE\", as well as your name and collaborators below:"
   ]
  },
  {
   "cell_type": "code",
   "execution_count": 1,
   "metadata": {},
   "outputs": [],
   "source": [
    "NAME = \"Pascale van de Ven, 2013998\"\n",
    "COLLABORATORS = \"\""
   ]
  },
  {
   "cell_type": "markdown",
   "metadata": {},
   "source": [
    "---"
   ]
  },
  {
   "cell_type": "markdown",
   "metadata": {},
   "source": [
    "Fill in the cell above to provide us with your name and student number, like\n",
    "\n",
    "NAME = \"Adam Smith, #student number#\"\n",
    "\n",
    "where you replace \"#student number#\" with your ... (very good!)\n",
    "\n",
    "and if you are doing this with someone else (not more than one other person):\n",
    "\n",
    "COLLABORATORS = \"Karl Marx, #student number#\""
   ]
  },
  {
   "cell_type": "markdown",
   "metadata": {
    "deletable": false,
    "editable": false,
    "nbgrader": {
     "checksum": "a7ae5c69becf064d614c6c38935eca51",
     "grade": false,
     "grade_id": "cell-895e9a7b94992ec9",
     "locked": true,
     "schema_version": 1,
     "solution": false
    }
   },
   "source": [
    "# exam June 7th, 2018\n"
   ]
  },
  {
   "cell_type": "markdown",
   "metadata": {
    "deletable": false,
    "editable": false,
    "nbgrader": {
     "checksum": "bc48d165f54aa364aa34509649fcdef5",
     "grade": false,
     "grade_id": "cell-540987818af25557",
     "locked": true,
     "schema_version": 1,
     "solution": false
    }
   },
   "source": [
    "\n",
    "In the first cell of the notebook, give us your name and student number in the way indicated above. If you do this notebook with --at max.-- one other student, give her/his name and student number as well under \"COLLABORATORS\".\n",
    "\n",
    "Fill in the notebook (see below for code cells and text cells that you need to fill in).\n",
    "\n",
    "If you look at the menus above (File, Edit, View etc.), there is one called \"Cell\". If you click on this, you can change the \"Cell Type\". Choose \"Code\" when you are typing python or R code. Choose \"Markdown\" when you are typing, well, markdown.\n",
    "\n",
    "When you finish the notebook, make sure that you **save it with the output of your code included**. \n",
    "\n",
    "Then put it on github, e.g. by dragging it onto github (see instructions below). \n",
    "\n",
    "Finally, add a link to your README file with the name of this exam: \"Exam June 7, 2018\".\n",
    "\n"
   ]
  },
  {
   "cell_type": "markdown",
   "metadata": {
    "deletable": false,
    "editable": false,
    "nbgrader": {
     "checksum": "6fad9bed312da1b0097e9c520b18e3fb",
     "grade": false,
     "grade_id": "cell-e1cf88cb799f1f43",
     "locked": true,
     "schema_version": 1,
     "solution": false
    }
   },
   "source": [
    "## price effects of mergers\n",
    "\n",
    "We consider a merger in this notebook. \n",
    "\n",
    "First we calculate the equilibrium with three firms, denoted by 1, 2 and 3. Then firms 2 and 3 merge so that we are left with 2 firms; denoted by 1 and 2.\n",
    "\n",
    "We calculate the effects of the merger on the equilibrium price.\n",
    "\n",
    "We start by importing the usual libraries."
   ]
  },
  {
   "cell_type": "code",
   "execution_count": 2,
   "metadata": {
    "deletable": false,
    "editable": false,
    "nbgrader": {
     "checksum": "7bd770ef54db47c3b6c8d0e31f6baef6",
     "grade": false,
     "grade_id": "cell-b895769bf40e183a",
     "locked": true,
     "schema_version": 1,
     "solution": false
    }
   },
   "outputs": [],
   "source": [
    "import matplotlib.pyplot as plt\n",
    "import pandas as pd\n",
    "import numpy as np\n",
    "from scipy import optimize\n",
    "%matplotlib inline"
   ]
  },
  {
   "cell_type": "markdown",
   "metadata": {},
   "source": [
    "The following code helps to calculate the equilibrium for the case with 3 firms. Note that you have seen similar code during the tutorials to calculate the equilibrium with 2 firms.\n",
    "\n",
    "We assume that before the merger each firm has constant marginal costs equal to 0.3. We assume a simple linear (inverse) demand curve of the form $p=1-Q$ where $p$ denotes price and $Q$ total output on the market. Total output equals the sum of each firm's output: $Q= q_1 + q_2+q_3$."
   ]
  },
  {
   "cell_type": "code",
   "execution_count": 3,
   "metadata": {
    "deletable": false,
    "editable": false,
    "nbgrader": {
     "checksum": "3e30f7ac9d9155ef089b8ca56a0c0436",
     "grade": false,
     "grade_id": "cell-f97a25efed556fd2",
     "locked": true,
     "schema_version": 1,
     "solution": false
    }
   },
   "outputs": [],
   "source": [
    "c0 = 0.3\n",
    "vector_c = [c0]*3\n",
    "\n",
    "def p(Q):\n",
    "    return 1 - Q\n",
    "\n",
    "def costs(q,c):\n",
    "    return c*q\n",
    "\n",
    "def profits(q,Q_other,c):\n",
    "    return p(q+Q_other)*q-costs(q,c)\n",
    "\n",
    "def reaction(Q_other,c):\n",
    "    q1 =  optimize.fminbound(lambda x: -profits(x,Q_other,c),0,1,full_output=1)\n",
    "    return q1[0]\n",
    "\n",
    "def fixed_point_three_firms(vector_q,vector_c):\n",
    "    return [vector_q[0]-reaction(vector_q[1]+vector_q[2],vector_c[0]),\n",
    "            vector_q[1]-reaction(vector_q[0]+vector_q[2],vector_c[1]),\n",
    "            vector_q[2]-reaction(vector_q[0]+vector_q[1],vector_c[2])]\n",
    "\n"
   ]
  },
  {
   "cell_type": "markdown",
   "metadata": {
    "deletable": false,
    "editable": false,
    "nbgrader": {
     "checksum": "f6ea3b2416aca7293a5450c45865f242",
     "grade": false,
     "grade_id": "cell-83284c4090d6de8c",
     "locked": true,
     "schema_version": 1,
     "solution": false
    }
   },
   "source": [
    "#### a) [0.5 points] Show that total equilibrium output equals  0.525. Derive the equilibrium price and Herfindahl index; denote these by `P0` and `H0` resp."
   ]
  },
  {
   "cell_type": "code",
   "execution_count": 4,
   "metadata": {},
   "outputs": [],
   "source": [
    "#The herfindahl index is the sum of the squares of all market shares. "
   ]
  },
  {
   "cell_type": "code",
   "execution_count": null,
   "metadata": {},
   "outputs": [],
   "source": []
  },
  {
   "cell_type": "code",
   "execution_count": 5,
   "metadata": {
    "deletable": false,
    "nbgrader": {
     "checksum": "a06d73c35395adb00480733b458cb4a5",
     "grade": true,
     "grade_id": "cell-3b8ee172d9950128",
     "locked": false,
     "points": 0.5,
     "schema_version": 1,
     "solution": true
    }
   },
   "outputs": [
    {
     "data": {
      "text/plain": [
       "array([0.175, 0.175, 0.175])"
      ]
     },
     "execution_count": 5,
     "metadata": {},
     "output_type": "execute_result"
    }
   ],
   "source": [
    "initial_guess = [0.17,0.17,0.17]\n",
    "optimize.fsolve(lambda q:fixed_point_three_firms(q, [0.3,0.3,0.3]), initial_guess)"
   ]
  },
  {
   "cell_type": "code",
   "execution_count": 6,
   "metadata": {},
   "outputs": [
    {
     "name": "stdout",
     "output_type": "stream",
     "text": [
      "0.5249999999999999\n"
     ]
    }
   ],
   "source": [
    "total_equilibrium_output = sum(optimize.fsolve(lambda q: fixed_point_three_firms(q,[0.3,0.3,0.3]), initial_guess))\n",
    "print(total_equilibrium_output)"
   ]
  },
  {
   "cell_type": "code",
   "execution_count": 7,
   "metadata": {},
   "outputs": [
    {
     "name": "stdout",
     "output_type": "stream",
     "text": [
      "0.475\n"
     ]
    }
   ],
   "source": [
    "def p(Q):\n",
    "    return 1-Q\n",
    "\n",
    "P0 = 1-0.525\n",
    "print (P0)"
   ]
  },
  {
   "cell_type": "code",
   "execution_count": 8,
   "metadata": {
    "scrolled": true
   },
   "outputs": [
    {
     "name": "stdout",
     "output_type": "stream",
     "text": [
      "0.33326667\n"
     ]
    }
   ],
   "source": [
    "H0 = 0.3333**2 + 0.3333**2 +0.3333**2\n",
    "print (H0)"
   ]
  },
  {
   "cell_type": "code",
   "execution_count": null,
   "metadata": {},
   "outputs": [],
   "source": []
  },
  {
   "cell_type": "markdown",
   "metadata": {
    "deletable": false,
    "editable": false,
    "nbgrader": {
     "checksum": "87b3b3e0e2d645c280e279312e489dc4",
     "grade": false,
     "grade_id": "cell-4b33762aa4a601fe",
     "locked": true,
     "schema_version": 1,
     "solution": false
    }
   },
   "source": [
    "#### b) [0.5 point] Define a function `fixed_point_two_firms` with the same structure as the function `fixed_point_three_firms` above, except that it derives the equilibrium output levels for a duopoly (two firms). Test this function by showing that each of the two firms produces 0.3333 in case both firms have zero costs."
   ]
  },
  {
   "cell_type": "code",
   "execution_count": 9,
   "metadata": {
    "deletable": false,
    "nbgrader": {
     "checksum": "024a1519155d681b57c85292df535a65",
     "grade": true,
     "grade_id": "cell-5ee215676b91f504",
     "locked": false,
     "points": 0.5,
     "schema_version": 1,
     "solution": true
    }
   },
   "outputs": [],
   "source": [
    "c0 = 0.3\n",
    "vector_c = [c0]*3\n",
    "\n",
    "def p(Q):\n",
    "    return 1 - Q\n",
    "\n",
    "def costs(q,c):\n",
    "    return c*q\n",
    "\n",
    "def profits(q,Q_other,c):\n",
    "    return p(q+Q_other)*q-costs(q,c)\n",
    "\n",
    "def reaction(Q_other,c):\n",
    "    q1 =  optimize.fminbound(lambda x: -profits(x,Q_other,c),0,1,full_output=1)\n",
    "    return q1[0]\n",
    "\n",
    "def fixed_point_two_firms(vector_q,vector_c):\n",
    "    return [vector_q[0]-reaction(vector_q[1],vector_c[0]),\n",
    "            vector_q[1]-reaction(vector_q[0],vector_c[1])]"
   ]
  },
  {
   "cell_type": "code",
   "execution_count": 10,
   "metadata": {},
   "outputs": [
    {
     "data": {
      "text/plain": [
       "array([0.33333333, 0.33333333])"
      ]
     },
     "execution_count": 10,
     "metadata": {},
     "output_type": "execute_result"
    }
   ],
   "source": [
    "initial_guess = [0.3,0.3]\n",
    "optimize.fsolve(lambda q:fixed_point_two_firms(q, [0,0]), initial_guess)"
   ]
  },
  {
   "cell_type": "markdown",
   "metadata": {
    "deletable": false,
    "editable": false,
    "nbgrader": {
     "checksum": "5291fc8716e367572fde17ebe5844d2f",
     "grade": false,
     "grade_id": "cell-c2fada02efd7b197",
     "locked": true,
     "schema_version": 1,
     "solution": false
    }
   },
   "source": [
    "The Dutch competition authority, ACM, is asked to evaluate the effects of a merger between firms 2 and 3. Firms 2 and 3 claim that by merging they can reduce their constant marginal costs. But it is not clear by how much they will reduce their costs.\n",
    "\n",
    "The ACM assumes that the marginal cost level of the merged firm is uniformly distributed between 0 and the current marginal cost level `c0`. The merger will not affect the marginal cost level of firm 1 who does not merge. Firm 1's cost level remains `c0`.\n",
    "\n",
    "The next cell generates a vector of cost levels for the merged firm, denoted `c_after_merger`. Evaluate \"c_after_merger\" in a separate cell if you do not understand the command that defines it.\n",
    "\n",
    "Then it calculates the equilibrium output levels for (the non-merging) firm 1 and (the merged) firm 2.\n",
    "\n",
    "Note that you need to specify `initial_guess`.\n"
   ]
  },
  {
   "cell_type": "code",
   "execution_count": 11,
   "metadata": {
    "deletable": false,
    "editable": false,
    "nbgrader": {
     "checksum": "11299317cd53e31de9900700999b0324",
     "grade": false,
     "grade_id": "cell-ce91ab3e3225c57d",
     "locked": true,
     "schema_version": 1,
     "solution": false
    }
   },
   "outputs": [],
   "source": [
    "c_after_merger = np.random.uniform(0,c0,size = 100)\n",
    "\n",
    "q1_after_merger = [optimize.fsolve(lambda q: fixed_point_two_firms(q,[c0,c]), initial_guess)[0] for c in c_after_merger]\n",
    "q2_after_merger = [optimize.fsolve(lambda q: fixed_point_two_firms(q,[c0,c]), initial_guess)[1] for c in c_after_merger]\n",
    "\n",
    "\n"
   ]
  },
  {
   "cell_type": "markdown",
   "metadata": {
    "deletable": false,
    "editable": false,
    "nbgrader": {
     "checksum": "2b518306d6ff20ee42d0bc3085333095",
     "grade": false,
     "grade_id": "cell-0acc18b4f07a09f4",
     "locked": true,
     "schema_version": 1,
     "solution": false
    }
   },
   "source": [
    "#### c) [0.5 points] Create a dataframe called `df_after_merger` with three columns: `c_merged_firm`, `output_non_merging_firm`, `output_merged_firm` containing resp. the cost level of the merged firm, the output level of firm 1 and the output level of firm 2."
   ]
  },
  {
   "cell_type": "code",
   "execution_count": 12,
   "metadata": {
    "deletable": false,
    "nbgrader": {
     "checksum": "f4fc6a3bdef91fa3f656ccd3290c9f54",
     "grade": true,
     "grade_id": "cell-f3eacda828774f2d",
     "locked": false,
     "points": 0.5,
     "schema_version": 1,
     "solution": true
    }
   },
   "outputs": [
    {
     "name": "stdout",
     "output_type": "stream",
     "text": [
      "[0.00264634 0.0840608  0.22433925 0.00735199 0.28190214 0.18445977\n",
      " 0.29833672 0.0970492  0.13457448 0.20899139 0.07793424 0.09551393\n",
      " 0.12076631 0.08688833 0.27009134 0.09594321 0.14975007 0.24294529\n",
      " 0.23935833 0.1528829  0.23102064 0.24794362 0.05592007 0.24186656\n",
      " 0.26482626 0.27884391 0.00956717 0.23885247 0.19067238 0.06415744\n",
      " 0.10122022 0.16809134 0.10764792 0.21308433 0.14574398 0.1212034\n",
      " 0.0797312  0.27266969 0.17043898 0.07836921 0.07445761 0.14186369\n",
      " 0.13695992 0.15107889 0.17345964 0.1255151  0.29800361 0.26622384\n",
      " 0.15412861 0.12965058 0.10410271 0.20661171 0.14840967 0.13221352\n",
      " 0.29847489 0.25525945 0.27079745 0.11574312 0.14066376 0.00450823\n",
      " 0.27074042 0.00959181 0.2844277  0.06769618 0.23745415 0.1720161\n",
      " 0.2380919  0.08507007 0.04121653 0.10859443 0.1031172  0.18930925\n",
      " 0.07319515 0.27746881 0.27864765 0.11176071 0.09515137 0.19211558\n",
      " 0.04093141 0.29737653 0.15838787 0.18810281 0.0986344  0.0903489\n",
      " 0.0026516  0.22538017 0.02322662 0.23224442 0.18102621 0.0604914\n",
      " 0.1209429  0.2036315  0.17840428 0.29044372 0.26506261 0.0300837\n",
      " 0.02788358 0.02778784 0.26299502 0.20711446]\n",
      "[0.1628849030952419, 0.20413810358426543, 0.19327523367557944, 0.16911304413371248, 0.21849780734395463, 0.17938655995981662, 0.135185459588883, 0.2284560231201942, 0.217984650674915, 0.19841680559009944, 0.2136384371027183, 0.1612994348916931, 0.18542421007454982, 0.2056991933844229, 0.16424238000009528, 0.14723753292060085, 0.18305886889664302, 0.13576443939110208, 0.2031818281116248, 0.14193992799762203, 0.13995836710526027, 0.21844592596612913, 0.1592806705045783, 0.1913940129988194, 0.164233237606112, 0.138869339621058, 0.17474603535941693, 0.17571936506785668, 0.1754263773409306, 0.1439353684454186, 0.20141010229315837, 0.17312464172386466, 0.16357608697411768, 0.19088006858684173, 0.13867630481441406, 0.1904312993159588, 0.15735340312485654, 0.1468828568947327, 0.17946109345181707, 0.15732644890512307, 0.21958962157574088, 0.15717381484354853, 0.2001746143690705, 0.1783743239714791, 0.13893296091430254, 0.2147657412237894, 0.2192892285673207, 0.20388324039610317, 0.2046961236296341, 0.187014965766742, 0.1360693636893506, 0.2273020712978237, 0.13649479659163702, 0.1997405422216118, 0.2262729280696123, 0.22750945054425087, 0.19164913746517281, 0.2092600384933045, 0.17053144202699044, 0.21354540374680406, 0.18258739934861082, 0.1874559154411408, 0.1720531872777853, 0.14173629884356617, 0.13633278445595698, 0.15856994546328138, 0.19310142283892917, 0.18406659599100453, 0.20347363668936985, 0.20760298368571342, 0.14239445274143975, 0.229519055636236, 0.2092422456499009, 0.16496094207063042, 0.17800055761595898, 0.1401712191129315, 0.13716681198588337, 0.2045217187599604, 0.16104485671646535, 0.20119234202587644, 0.19197568376265062, 0.19331468234823423, 0.22358608841783573, 0.18219651636942355, 0.1697432767711955, 0.20014202851055593, 0.2119401416021839, 0.22118261096137595, 0.15510930703675768, 0.14726839172432374, 0.2264653175272909, 0.21824504479527512, 0.18654565947079885, 0.2170596249995045, 0.18749572495978722, 0.2082096288476405, 0.19321214929336106, 0.14279474926316327, 0.15518248719879024, 0.14441556564741764]\n",
      "[0.37423019380951617, 0.29172379283146876, 0.3134495326488412, 0.3617739117325751, 0.2630043853120907, 0.34122688008036683, 0.4296290808222346, 0.24308795375961112, 0.26403069865016976, 0.30316638881980096, 0.2727231257945638, 0.3774011302166138, 0.3291515798509011, 0.28860161323115424, 0.37151523999980945, 0.405524934158799, 0.33388226220671335, 0.4284711212177958, 0.2936363437767505, 0.4161201440047565, 0.42008326578947974, 0.263108148067742, 0.38143865899084345, 0.31721197400236134, 0.37153352478777574, 0.4222613207578833, 0.35050792928116614, 0.3485612698642861, 0.34914724531813807, 0.41212926310916254, 0.29717979541368345, 0.35375071655227097, 0.3728478260517645, 0.31823986282631606, 0.4226473903711721, 0.31913740136808244, 0.3852931937502877, 0.40623428621053487, 0.3410778130963654, 0.38534710218975415, 0.2608207568485188, 0.3856523703129036, 0.2996507712618592, 0.3432513520570412, 0.42213407817139464, 0.27046851755242074, 0.2614215428653587, 0.2922335192077934, 0.29060775274073225, 0.32597006846651555, 0.4278612726212982, 0.24539585740435252, 0.4270104068167258, 0.3005189155567764, 0.2474541438607755, 0.24498109891149836, 0.3167017250696544, 0.28147992301339114, 0.3589371159460193, 0.27290919250639206, 0.33482520130277904, 0.32508816911771904, 0.35589362544442926, 0.4165274023128678, 0.4273344310880856, 0.3828601090734375, 0.3137971543221422, 0.33186680801799107, 0.2930527266212605, 0.2847940326285733, 0.41521109451712107, 0.2409618887275281, 0.2815155087001984, 0.3700781158587394, 0.3439988847680822, 0.4196575617741367, 0.42566637602823354, 0.29095656248007895, 0.37791028656706954, 0.2976153159482471, 0.3160486324746982, 0.31337063530353176, 0.25282782316432845, 0.3356069672611528, 0.36051344645760885, 0.29971594297888754, 0.27611971679563174, 0.25763477807724866, 0.3897813859264842, 0.4054632165513527, 0.2470693649454181, 0.26350991040945, 0.3269086810584024, 0.26588075000099054, 0.32500855008042556, 0.2835807423047191, 0.31357570141327834, 0.4144105014736729, 0.38963502560241947, 0.41116886870516517]\n"
     ]
    }
   ],
   "source": [
    "c_merged_firm = np.random.uniform(0, c0, size = 100)\n",
    "output_non_merging_firm = [optimize.fsolve(lambda q: fixed_point_two_firms(q,[c0,c]), initial_guess)[0] for c in c_after_merger]\n",
    "output_merged_firm = [optimize.fsolve(lambda q: fixed_point_two_firms(q,[c0,c]), initial_guess)[1] for c in c_after_merger]\n",
    "print(c_merged_firm)\n",
    "print(output_non_merging_firm)\n",
    "print(output_merged_firm)"
   ]
  },
  {
   "cell_type": "code",
   "execution_count": 13,
   "metadata": {},
   "outputs": [
    {
     "data": {
      "text/html": [
       "<div>\n",
       "<style scoped>\n",
       "    .dataframe tbody tr th:only-of-type {\n",
       "        vertical-align: middle;\n",
       "    }\n",
       "\n",
       "    .dataframe tbody tr th {\n",
       "        vertical-align: top;\n",
       "    }\n",
       "\n",
       "    .dataframe thead th {\n",
       "        text-align: right;\n",
       "    }\n",
       "</style>\n",
       "<table border=\"1\" class=\"dataframe\">\n",
       "  <thead>\n",
       "    <tr style=\"text-align: right;\">\n",
       "      <th></th>\n",
       "      <th>c_merged_firm</th>\n",
       "      <th>output_merged_firm</th>\n",
       "      <th>output_non_merging_firm</th>\n",
       "    </tr>\n",
       "  </thead>\n",
       "  <tbody>\n",
       "    <tr>\n",
       "      <th>0</th>\n",
       "      <td>0.081023</td>\n",
       "      <td>0.251295</td>\n",
       "      <td>0.224352</td>\n",
       "    </tr>\n",
       "    <tr>\n",
       "      <th>1</th>\n",
       "      <td>0.169871</td>\n",
       "      <td>0.263913</td>\n",
       "      <td>0.218043</td>\n",
       "    </tr>\n",
       "    <tr>\n",
       "      <th>2</th>\n",
       "      <td>0.003010</td>\n",
       "      <td>0.352439</td>\n",
       "      <td>0.173780</td>\n",
       "    </tr>\n",
       "    <tr>\n",
       "      <th>3</th>\n",
       "      <td>0.213016</td>\n",
       "      <td>0.324236</td>\n",
       "      <td>0.187882</td>\n",
       "    </tr>\n",
       "    <tr>\n",
       "      <th>4</th>\n",
       "      <td>0.252655</td>\n",
       "      <td>0.359354</td>\n",
       "      <td>0.170323</td>\n",
       "    </tr>\n",
       "  </tbody>\n",
       "</table>\n",
       "</div>"
      ],
      "text/plain": [
       "   c_merged_firm  output_merged_firm  output_non_merging_firm\n",
       "0       0.081023            0.251295                 0.224352\n",
       "1       0.169871            0.263913                 0.218043\n",
       "2       0.003010            0.352439                 0.173780\n",
       "3       0.213016            0.324236                 0.187882\n",
       "4       0.252655            0.359354                 0.170323"
      ]
     },
     "execution_count": 13,
     "metadata": {},
     "output_type": "execute_result"
    }
   ],
   "source": [
    "c_merged_firm = np.random.uniform(0,c0,size = 100)\n",
    "output_non_merging_firm = [optimize.fsolve(lambda q: fixed_point_two_firms(q,[c0,c]), initial_guess)[0] for c in c_after_merger]\n",
    "output_merged_firm = [optimize.fsolve(lambda q: fixed_point_two_firms(q,[c0,c]), initial_guess)[1] for c in c_after_merger]\n",
    "\n",
    "d = {\"c_merged_firm\" :[0.08102347, 0.16987078, 0.00300962, 0.2130157,  0.25265536, 0.12870328,\n",
    " 0.12747889, 0.03296023, 0.12182474, 0.11605143, 0.04621013, 0.28672362,\n",
    " 0.12097957, 0.00058858, 0.01526257, 0.28198068, 0.05064647, 0.06302666,\n",
    " 0.23117759, 0.29518699, 0.15314283, 0.07697398, 0.14028559, 0.29217688,\n",
    " 0.08874312, 0.22826995, 0.08912312, 0.16487091, 0.15240864, 0.12579813,\n",
    " 0.13349171, 0.1189,     0.00954747, 0.11710042, 0.08299499, 0.05936137,\n",
    " 0.11003903, 0.18262441, 0.00154503, 0.23964786, 0.21766511, 0.17735111,\n",
    " 0.27545602, 0.02347381, 0.17015842, 0.26061275, 0.10164406, 0.06137014,\n",
    " 0.22313869, 0.03907154, 0.06034071, 0.28956046, 0.29285229, 0.13727839,\n",
    " 0.01745533, 0.27940926, 0.26747554, 0.05760075, 0.02618157, 0.07205829,\n",
    " 0.09392314, 0.29355116, 0.01746716, 0.15109607, 0.2586463, 0.15774099,\n",
    " 0.05912914, 0.22094106, 0.21471447, 0.14324175, 0.27712798, 0.02346217,\n",
    " 0.2840237, 0.00243043, 0.11373468, 0.12061293, 0.28730874, 0.14557927,\n",
    " 0.04749721, 0.21552285, 0.0445468,  0.06525695, 0.2125884,  0.29124449,\n",
    " 0.02030546, 0.12726224, 0.28373914, 0.06538703, 0.05499254, 0.09095607,\n",
    " 0.24415708, 0.22446567, 0.1359428,  0.20913656, 0.26512842, 0.06481723,\n",
    " 0.17241661, 0.16388882, 0.14712084, 0.19863566],\n",
    "     \"output_non_merging_firm\": [0.22435228795814108, 0.21804329977009657, 0.17378042676319763, 0.18788203210395352, 0.17032292620985318, 0.171985057718711, 0.20463403011460954, 0.1973811953383888, 0.17679611598390024, 0.15308807321015233, 0.21907273111593561, 0.16973488388087013, 0.13353450882832715, 0.1905904992960011, 0.1511639015978433, 0.17351082803130038, 0.1950698634806756, 0.1651282178249312, 0.20540433744048353, 0.22726597430031756, 0.19660497086512935, 0.15044568842979963, 0.2171536625399323, 0.19717388649027165, 0.20905728791008177, 0.15884912639254734, 0.21348871559427887, 0.18692192941730743, 0.21714382803676782, 0.22827665751674148, 0.17669171521246416, 0.19459567086772078, 0.22880162659287492, 0.2178671938969627, 0.13660492901406782, 0.23246796236700568, 0.16981002519844202, 0.2149140429206458, 0.18939152401888437, 0.17617003804287998, 0.21304511997518208, 0.1568126197644102, 0.23081102117743735, 0.17288978894409998, 0.1690967351326753, 0.21768598971263056, 0.15553195948681972, 0.15068510029114032, 0.13627405725334463, 0.18589594380766794, 0.20228594935751326, 0.13371474622454507, 0.19603312819136554, 0.1748041216670805, 0.15576343165166112, 0.23118400634342048, 0.16758474798116924, 0.193399081431123, 0.19361993801725663, 0.1425025785967675, 0.18473292508738154, 0.18475779987209692, 0.21441349692986816, 0.2013582837918002, 0.2197102611887065, 0.22523834169705018, 0.21094274156172219, 0.18524321899102417, 0.1992047141376888, 0.1450017481992714, 0.14860014382375794, 0.21685009835735397, 0.1985324886413002, 0.1996214586872305, 0.1369130051613929, 0.1633759152053747, 0.1761696367770585, 0.18684299707727714, 0.13486662904712288, 0.20335227075915982, 0.2031045998239855, 0.1528808006339883, 0.14803814154168293, 0.21845230116402464, 0.21718801216570777, 0.1522074002047575, 0.1648413955908172, 0.14088177201562463, 0.1765329438450512, 0.2291812061434514, 0.2054217200060583, 0.15757845055601544, 0.1651518262619734, 0.1459905133824229, 0.20431862915579202, 0.22959961708700624, 0.2314174786930564, 0.151600468721896, 0.18758117032499264, 0.16626366013268679],\n",
    "     \"output_merged_firm\" : [0.2512954240837174, 0.263913400459807, 0.3524391464736041, 0.32423593579209303, 0.3593541475802937, 0.35602988456257806, 0.29073193977078104, 0.3052376093232223, 0.3464077680321998, 0.3938238535796952, 0.261854537768129, 0.3605302322382592, 0.4329309823433463, 0.31881900140799724, 0.39767219680431376, 0.3529783439373999, 0.3098602730386489, 0.3697435643501381, 0.28919132511903306, 0.24546805139936487, 0.30679005826974115, 0.3991086231404015, 0.2656926749201354, 0.30565222701945693, 0.28188542417983603, 0.3823017472149053, 0.27302256881144205, 0.3261561411653857, 0.26571234392646487, 0.24344668496651728, 0.34661656957507114, 0.3108086582645585, 0.24239674681425086, 0.2642656122060743, 0.42679014197186504, 0.23506407526598924, 0.3603799496031154, 0.27017191415870834, 0.32121695196223143, 0.3476599239142402, 0.27390976004963596, 0.3863747604711798, 0.23837795764512554, 0.35422042211180027, 0.36180652973464944, 0.2646280205747389, 0.38893608102635974, 0.39862979941771937, 0.42745188549331087, 0.3282081123846646, 0.29542810128497354, 0.43257050755090964, 0.30793374361726905, 0.35039175666583905, 0.3884731366966773, 0.23763198731315885, 0.36483050403766143, 0.3132018371377542, 0.3127601239654872, 0.4149948428064648, 0.3305341498252365, 0.33048440025580633, 0.27117300614026396, 0.29728343241639943, 0.26057947762258643, 0.2495233166058998, 0.2781145168765554, 0.32951356201795146, 0.30159057172462245, 0.4099965036014565, 0.4027997123524835, 0.26629980328529146, 0.3029350227173991, 0.300757082625539, 0.4261739896772146, 0.37324816958925067, 0.3476607264458836, 0.32631400584544495, 0.430266741905754, 0.29329545848168054, 0.29379080035202965, 0.394238398732023, 0.403923716916634, 0.26309539767195067, 0.26562397566858403, 0.3955851995904856, 0.3703172088183652, 0.4182364559687501, 0.34693411230989707, 0.2416375877130973, 0.28915655998788325, 0.3848430988879693, 0.36969634747605257, 0.40801897323515396, 0.2913627416884156, 0.24080076582598767, 0.23716504261388727, 0.39679906255620856, 0.32483765935001474, 0.3674726797346259]}\n",
    "\n",
    "df_after_merger = pd.DataFrame(data = d)\n",
    "df_after_merger.head()"
   ]
  },
  {
   "cell_type": "markdown",
   "metadata": {
    "deletable": false,
    "editable": false,
    "nbgrader": {
     "checksum": "a5bf4171960844da9c57375d83b6eedf",
     "grade": false,
     "grade_id": "cell-7ad058be42e19df8",
     "locked": true,
     "schema_version": 1,
     "solution": false
    }
   },
   "source": [
    "#### d) [0.5 points] Add three columns to the dataframe with resp. total equilibrium output on the market, `Q`, equilibrium price, `P` and the Herfindahl index, `H`."
   ]
  },
  {
   "cell_type": "code",
   "execution_count": 14,
   "metadata": {
    "deletable": false,
    "nbgrader": {
     "checksum": "ab6179623b39a6ae634abea45326e4ab",
     "grade": true,
     "grade_id": "cell-9c39b11747803ca1",
     "locked": false,
     "points": 0.5,
     "schema_version": 1,
     "solution": true
    },
    "scrolled": true
   },
   "outputs": [
    {
     "data": {
      "text/html": [
       "<div>\n",
       "<style scoped>\n",
       "    .dataframe tbody tr th:only-of-type {\n",
       "        vertical-align: middle;\n",
       "    }\n",
       "\n",
       "    .dataframe tbody tr th {\n",
       "        vertical-align: top;\n",
       "    }\n",
       "\n",
       "    .dataframe thead th {\n",
       "        text-align: right;\n",
       "    }\n",
       "</style>\n",
       "<table border=\"1\" class=\"dataframe\">\n",
       "  <thead>\n",
       "    <tr style=\"text-align: right;\">\n",
       "      <th></th>\n",
       "      <th>c_merged_firm</th>\n",
       "      <th>output_merged_firm</th>\n",
       "      <th>output_non_merging_firm</th>\n",
       "      <th>Q</th>\n",
       "    </tr>\n",
       "  </thead>\n",
       "  <tbody>\n",
       "    <tr>\n",
       "      <th>0</th>\n",
       "      <td>0.081023</td>\n",
       "      <td>0.251295</td>\n",
       "      <td>0.224352</td>\n",
       "      <td>0.475648</td>\n",
       "    </tr>\n",
       "    <tr>\n",
       "      <th>1</th>\n",
       "      <td>0.169871</td>\n",
       "      <td>0.263913</td>\n",
       "      <td>0.218043</td>\n",
       "      <td>0.481957</td>\n",
       "    </tr>\n",
       "    <tr>\n",
       "      <th>2</th>\n",
       "      <td>0.003010</td>\n",
       "      <td>0.352439</td>\n",
       "      <td>0.173780</td>\n",
       "      <td>0.526220</td>\n",
       "    </tr>\n",
       "    <tr>\n",
       "      <th>3</th>\n",
       "      <td>0.213016</td>\n",
       "      <td>0.324236</td>\n",
       "      <td>0.187882</td>\n",
       "      <td>0.512118</td>\n",
       "    </tr>\n",
       "    <tr>\n",
       "      <th>4</th>\n",
       "      <td>0.252655</td>\n",
       "      <td>0.359354</td>\n",
       "      <td>0.170323</td>\n",
       "      <td>0.529677</td>\n",
       "    </tr>\n",
       "  </tbody>\n",
       "</table>\n",
       "</div>"
      ],
      "text/plain": [
       "   c_merged_firm  output_merged_firm  output_non_merging_firm         Q\n",
       "0       0.081023            0.251295                 0.224352  0.475648\n",
       "1       0.169871            0.263913                 0.218043  0.481957\n",
       "2       0.003010            0.352439                 0.173780  0.526220\n",
       "3       0.213016            0.324236                 0.187882  0.512118\n",
       "4       0.252655            0.359354                 0.170323  0.529677"
      ]
     },
     "execution_count": 14,
     "metadata": {},
     "output_type": "execute_result"
    }
   ],
   "source": [
    "df_after_merger['Q']= df_after_merger[ 'output_merged_firm'] + df_after_merger['output_non_merging_firm']\n",
    "df_after_merger.head()"
   ]
  },
  {
   "cell_type": "code",
   "execution_count": 15,
   "metadata": {},
   "outputs": [
    {
     "data": {
      "text/html": [
       "<div>\n",
       "<style scoped>\n",
       "    .dataframe tbody tr th:only-of-type {\n",
       "        vertical-align: middle;\n",
       "    }\n",
       "\n",
       "    .dataframe tbody tr th {\n",
       "        vertical-align: top;\n",
       "    }\n",
       "\n",
       "    .dataframe thead th {\n",
       "        text-align: right;\n",
       "    }\n",
       "</style>\n",
       "<table border=\"1\" class=\"dataframe\">\n",
       "  <thead>\n",
       "    <tr style=\"text-align: right;\">\n",
       "      <th></th>\n",
       "      <th>c_merged_firm</th>\n",
       "      <th>output_merged_firm</th>\n",
       "      <th>output_non_merging_firm</th>\n",
       "      <th>Q</th>\n",
       "      <th>P</th>\n",
       "    </tr>\n",
       "  </thead>\n",
       "  <tbody>\n",
       "    <tr>\n",
       "      <th>0</th>\n",
       "      <td>0.081023</td>\n",
       "      <td>0.251295</td>\n",
       "      <td>0.224352</td>\n",
       "      <td>0.475648</td>\n",
       "      <td>0.524352</td>\n",
       "    </tr>\n",
       "    <tr>\n",
       "      <th>1</th>\n",
       "      <td>0.169871</td>\n",
       "      <td>0.263913</td>\n",
       "      <td>0.218043</td>\n",
       "      <td>0.481957</td>\n",
       "      <td>0.518043</td>\n",
       "    </tr>\n",
       "    <tr>\n",
       "      <th>2</th>\n",
       "      <td>0.003010</td>\n",
       "      <td>0.352439</td>\n",
       "      <td>0.173780</td>\n",
       "      <td>0.526220</td>\n",
       "      <td>0.473780</td>\n",
       "    </tr>\n",
       "    <tr>\n",
       "      <th>3</th>\n",
       "      <td>0.213016</td>\n",
       "      <td>0.324236</td>\n",
       "      <td>0.187882</td>\n",
       "      <td>0.512118</td>\n",
       "      <td>0.487882</td>\n",
       "    </tr>\n",
       "    <tr>\n",
       "      <th>4</th>\n",
       "      <td>0.252655</td>\n",
       "      <td>0.359354</td>\n",
       "      <td>0.170323</td>\n",
       "      <td>0.529677</td>\n",
       "      <td>0.470323</td>\n",
       "    </tr>\n",
       "  </tbody>\n",
       "</table>\n",
       "</div>"
      ],
      "text/plain": [
       "   c_merged_firm  output_merged_firm  output_non_merging_firm         Q  \\\n",
       "0       0.081023            0.251295                 0.224352  0.475648   \n",
       "1       0.169871            0.263913                 0.218043  0.481957   \n",
       "2       0.003010            0.352439                 0.173780  0.526220   \n",
       "3       0.213016            0.324236                 0.187882  0.512118   \n",
       "4       0.252655            0.359354                 0.170323  0.529677   \n",
       "\n",
       "          P  \n",
       "0  0.524352  \n",
       "1  0.518043  \n",
       "2  0.473780  \n",
       "3  0.487882  \n",
       "4  0.470323  "
      ]
     },
     "execution_count": 15,
     "metadata": {},
     "output_type": "execute_result"
    }
   ],
   "source": [
    "df_after_merger['P'] = 1 - df_after_merger['Q']\n",
    "df_after_merger.head()"
   ]
  },
  {
   "cell_type": "code",
   "execution_count": 16,
   "metadata": {},
   "outputs": [
    {
     "data": {
      "text/html": [
       "<div>\n",
       "<style scoped>\n",
       "    .dataframe tbody tr th:only-of-type {\n",
       "        vertical-align: middle;\n",
       "    }\n",
       "\n",
       "    .dataframe tbody tr th {\n",
       "        vertical-align: top;\n",
       "    }\n",
       "\n",
       "    .dataframe thead th {\n",
       "        text-align: right;\n",
       "    }\n",
       "</style>\n",
       "<table border=\"1\" class=\"dataframe\">\n",
       "  <thead>\n",
       "    <tr style=\"text-align: right;\">\n",
       "      <th></th>\n",
       "      <th>c_merged_firm</th>\n",
       "      <th>output_merged_firm</th>\n",
       "      <th>output_non_merging_firm</th>\n",
       "      <th>Q</th>\n",
       "      <th>P</th>\n",
       "      <th>H</th>\n",
       "    </tr>\n",
       "  </thead>\n",
       "  <tbody>\n",
       "    <tr>\n",
       "      <th>0</th>\n",
       "      <td>0.081023</td>\n",
       "      <td>0.251295</td>\n",
       "      <td>0.224352</td>\n",
       "      <td>0.475648</td>\n",
       "      <td>0.524352</td>\n",
       "      <td>2.0</td>\n",
       "    </tr>\n",
       "    <tr>\n",
       "      <th>1</th>\n",
       "      <td>0.169871</td>\n",
       "      <td>0.263913</td>\n",
       "      <td>0.218043</td>\n",
       "      <td>0.481957</td>\n",
       "      <td>0.518043</td>\n",
       "      <td>2.0</td>\n",
       "    </tr>\n",
       "    <tr>\n",
       "      <th>2</th>\n",
       "      <td>0.003010</td>\n",
       "      <td>0.352439</td>\n",
       "      <td>0.173780</td>\n",
       "      <td>0.526220</td>\n",
       "      <td>0.473780</td>\n",
       "      <td>2.0</td>\n",
       "    </tr>\n",
       "    <tr>\n",
       "      <th>3</th>\n",
       "      <td>0.213016</td>\n",
       "      <td>0.324236</td>\n",
       "      <td>0.187882</td>\n",
       "      <td>0.512118</td>\n",
       "      <td>0.487882</td>\n",
       "      <td>2.0</td>\n",
       "    </tr>\n",
       "    <tr>\n",
       "      <th>4</th>\n",
       "      <td>0.252655</td>\n",
       "      <td>0.359354</td>\n",
       "      <td>0.170323</td>\n",
       "      <td>0.529677</td>\n",
       "      <td>0.470323</td>\n",
       "      <td>2.0</td>\n",
       "    </tr>\n",
       "  </tbody>\n",
       "</table>\n",
       "</div>"
      ],
      "text/plain": [
       "   c_merged_firm  output_merged_firm  output_non_merging_firm         Q  \\\n",
       "0       0.081023            0.251295                 0.224352  0.475648   \n",
       "1       0.169871            0.263913                 0.218043  0.481957   \n",
       "2       0.003010            0.352439                 0.173780  0.526220   \n",
       "3       0.213016            0.324236                 0.187882  0.512118   \n",
       "4       0.252655            0.359354                 0.170323  0.529677   \n",
       "\n",
       "          P    H  \n",
       "0  0.524352  2.0  \n",
       "1  0.518043  2.0  \n",
       "2  0.473780  2.0  \n",
       "3  0.487882  2.0  \n",
       "4  0.470323  2.0  "
      ]
     },
     "execution_count": 16,
     "metadata": {},
     "output_type": "execute_result"
    }
   ],
   "source": [
    "df_after_merger['H'] = (df_after_merger['output_non_merging_firm']/df_after_merger['Q'])*2 + (df_after_merger['output_merged_firm']/df_after_merger['Q'])*2\n",
    "df_after_merger.head()"
   ]
  },
  {
   "cell_type": "markdown",
   "metadata": {},
   "source": [
    "#### e) [0.5 points] Make a histogram of the equilibrium price `P` after the merger. Also indicate in the histogram the equilibrium price before the merger `P0`. Label the horizontal axis with $P$.\n",
    "\n",
    "[hint: you may want to use matplotlib's `hist`, `vlines` and `legend` to make this graph (e.g use google to find these functions); but feel free to use something else]"
   ]
  },
  {
   "cell_type": "code",
   "execution_count": 17,
   "metadata": {
    "deletable": false,
    "nbgrader": {
     "checksum": "b103cd98545261b20f937f4b9db67f68",
     "grade": true,
     "grade_id": "cell-f9193bf8e71f1a9a",
     "locked": false,
     "points": 0.5,
     "schema_version": 1,
     "solution": true
    }
   },
   "outputs": [
    {
     "data": {
      "text/plain": [
       "<function matplotlib.pyplot.show>"
      ]
     },
     "execution_count": 17,
     "metadata": {},
     "output_type": "execute_result"
    },
    {
     "data": {
      "image/png": "[encoded data removed]",
      "text/plain": [
       "<matplotlib.figure.Figure at 0x24a715e8940>"
      ]
     },
     "metadata": {},
     "output_type": "display_data"
    }
   ],
   "source": [
    "plt.hist(df_after_merger[\"P\"], bins=15, color= \"red\") \n",
    "plt.hist(P0, range=(0.43,0.53))\n",
    "plt.title('Equilibruim price')\n",
    "plt.xlabel(\"P\")\n",
    "plt.ylabel(\"Frequency\")\n",
    "plt.show\n",
    "# met hist maak ik een histogram. ik geef tussen welke getallen in de range op de x-as wil. Ook geef ik een titel en benoem ik de x en y as."
   ]
  },
  {
   "cell_type": "markdown",
   "metadata": {},
   "source": [
    "#### f) [0.5 points] Explain why sometimes the equilibrium price after the merger exceeds the equilibrium price before the merger and sometimes it is lower than the pre-merger price. [hint: there is a trade off between two effects, depending on which effect dominates, equilibrium price increases or decreases after the merger]"
   ]
  },
  {
   "cell_type": "markdown",
   "metadata": {
    "deletable": false,
    "nbgrader": {
     "checksum": "dd9fc721b7cf7f66587e93cbfb758034",
     "grade": true,
     "grade_id": "cell-7a1f367cd2854156",
     "locked": false,
     "points": 0.5,
     "schema_version": 1,
     "solution": true
    }
   },
   "source": [
    "There is less competition after the merger, so that is one reason why the equilibrium price after merger exceeds the equilibrium price before the merger. The pre-merger price can be higher because of better expertise and with this expertise they can produce with a lower cost. They can produce with a lower cost , so that the merged firm can scare away other firms. This way it can gain more marktet share. "
   ]
  },
  {
   "cell_type": "markdown",
   "metadata": {
    "deletable": false,
    "editable": false,
    "nbgrader": {
     "checksum": "e1e41dbf14c605bf91cdc78f70eada99",
     "grade": false,
     "grade_id": "cell-06ed6044f8938a45",
     "locked": true,
     "schema_version": 1,
     "solution": false
    }
   },
   "source": [
    "#### g) [0.5 points] Make a graph with the Herfindahl index on the horizontal axis and the equilibrium price on the vertical axis. This is straightforward for $(H,P)$ after the merger as both values are in the dataframe. Add in another color, the pre-merger combination `(H0,P0)` that we calculated above."
   ]
  },
  {
   "cell_type": "code",
   "execution_count": 18,
   "metadata": {
    "deletable": false,
    "nbgrader": {
     "checksum": "51cfaacbaf533e85d9794bc74712afd5",
     "grade": true,
     "grade_id": "cell-d647464d04870b73",
     "locked": false,
     "points": 0.5,
     "schema_version": 1,
     "solution": true
    }
   },
   "outputs": [
    {
     "data": {
      "text/plain": [
       "Text(0.5,1,'Pre-merger combination vs post-merger combination')"
      ]
     },
     "execution_count": 18,
     "metadata": {},
     "output_type": "execute_result"
    },
    {
     "data": {
      "image/png": "[encoded data removed]",
      "text/plain": [
       "<matplotlib.figure.Figure at 0x24a719492e8>"
      ]
     },
     "metadata": {},
     "output_type": "display_data"
    }
   ],
   "source": [
    "plt.plot(df_after_merger['H'], df_after_merger['P'], label = 'post-merger combinations')\n",
    "plt.ylabel('P')\n",
    "plt.xlabel ('H')\n",
    "plt.scatter(0.33326667, 0.475, color = 'red', label = 'pre-merger combination')\n",
    "plt.legend()\n",
    "plt.title('Pre-merger combination vs post-merger combination')"
   ]
  },
  {
   "cell_type": "markdown",
   "metadata": {
    "deletable": false,
    "editable": false,
    "nbgrader": {
     "checksum": "11b6609131b1c25886f2c6cafe0f7a59",
     "grade": false,
     "grade_id": "cell-5c5e5776a7c135a2",
     "locked": true,
     "schema_version": 1,
     "solution": false
    }
   },
   "source": [
    "#### h) [0.5 points] Use the graph under g) to discuss the relation between the Herfindahl index and the equilibrium price. To illustrate, some people think that lower values of the Herfindahl index are associated with more competitive outcome. Would you agree with this?"
   ]
  },
  {
   "cell_type": "markdown",
   "metadata": {
    "collapsed": true,
    "deletable": false,
    "nbgrader": {
     "checksum": "3d396887dde3b00420c623b9f4ea8ed2",
     "grade": true,
     "grade_id": "cell-cbd89d483b23a953",
     "locked": false,
     "points": 0.5,
     "schema_version": 1,
     "solution": true
    }
   },
   "source": [
    "Well the relation between the Herfindahl index and the quilibrium are in by case far apart. Lower values of the herfindahl index associate with more competitive outcome seems true to me, because when companies have a low market share. That means that there a a lot of companies so there will be more comptitition. "
   ]
  },
  {
   "cell_type": "markdown",
   "metadata": {},
   "source": [
    "## Github\n",
    "\n",
    "After you have finished, we need to upload this notebook on github. Make sure that you upload the file on the github page of each collaborator."
   ]
  },
  {
   "cell_type": "markdown",
   "metadata": {},
   "source": [
    "Instructions on how to upload this on github can be found [on this page](http://janboone.github.io/programming-for-economists/github.html). This page has two screencasts: one shows how to drag the notebook onto your github page, the other shows how you can use the command line to upload your notebook.\n"
   ]
  },
  {
   "cell_type": "markdown",
   "metadata": {},
   "source": [
    "Remember to update the README file in your repository to include a link to this notebook on github.\n",
    "\n",
    "\n",
    "The links that you should post start with “github.com/” and are NOT of the form “http://localhost”. Make sure you test your links after uploading."
   ]
  },
  {
   "cell_type": "code",
   "execution_count": null,
   "metadata": {},
   "outputs": [],
   "source": []
  }
 ],
 "metadata": {
  "anaconda-cloud": {},
  "kernelspec": {
   "display_name": "Python 3",
   "language": "python",
   "name": "python3"
  },
  "language_info": {
   "codemirror_mode": {
    "name": "ipython",
    "version": 3
   },
   "file_extension": ".py",
   "mimetype": "text/x-python",
   "name": "python",
   "nbconvert_exporter": "python",
   "pygments_lexer": "ipython3",
   "version": "3.6.4"
  }
 },
 "nbformat": 4,
 "nbformat_minor": 1
}
